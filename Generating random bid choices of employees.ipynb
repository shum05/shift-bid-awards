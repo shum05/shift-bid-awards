{
 "cells": [
  {
   "cell_type": "code",
   "execution_count": 14,
   "id": "a6f8facd",
   "metadata": {},
   "outputs": [
    {
     "name": "stdout",
     "output_type": "stream",
     "text": [
      "[14, 17, 21, 10, 13, 12, 9, 3, 15]\n"
     ]
    }
   ],
   "source": [
    "import random\n",
    "\n",
    "# Generate 10 random integers from 1 to 21\n",
    "random_integers = random.sample(range(1, 22), 9)\n",
    "print(random_integers)\n"
   ]
  },
  {
   "cell_type": "code",
   "execution_count": null,
   "id": "7470f89e",
   "metadata": {},
   "outputs": [],
   "source": []
  }
 ],
 "metadata": {
  "kernelspec": {
   "display_name": "Python 3",
   "language": "python",
   "name": "python3"
  },
  "language_info": {
   "codemirror_mode": {
    "name": "ipython",
    "version": 3
   },
   "file_extension": ".py",
   "mimetype": "text/x-python",
   "name": "python",
   "nbconvert_exporter": "python",
   "pygments_lexer": "ipython3",
   "version": "3.9.13"
  }
 },
 "nbformat": 4,
 "nbformat_minor": 5
}
